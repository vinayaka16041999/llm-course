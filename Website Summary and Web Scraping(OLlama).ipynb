{
 "cells": [
  {
   "cell_type": "code",
   "execution_count": 1,
   "metadata": {},
   "outputs": [],
   "source": [
    "import requests\n",
    "from bs4 import BeautifulSoup\n",
    "from IPython.display import Markdown, display"
   ]
  },
  {
   "cell_type": "code",
   "execution_count": 10,
   "metadata": {},
   "outputs": [],
   "source": [
    "OLLAMA_API = \"http://localhost:11434/api/chat\"\n",
    "HEADERS = {\n",
    "    \"Content-Type\": \"application/json\"}\n",
    "MODEL = \"llama3:latest\""
   ]
  },
  {
   "cell_type": "code",
   "execution_count": 11,
   "metadata": {},
   "outputs": [],
   "source": [
    "messages = [{\"role\":\"user\",\"content\":\"Describe some of the business applications of Generative AI\"}]"
   ]
  },
  {
   "cell_type": "code",
   "execution_count": 12,
   "metadata": {},
   "outputs": [],
   "source": [
    "payload = {\n",
    "    \"model\": MODEL,\n",
    "    \"messages\" : messages,\n",
    "    \"stream\" : False\n",
    "}"
   ]
  },
  {
   "cell_type": "code",
   "execution_count": 14,
   "metadata": {},
   "outputs": [
    {
     "name": "stdout",
     "output_type": "stream",
     "text": [
      "Generative AI has numerous business applications across various industries, including:\n",
      "\n",
      "1. **Content Generation**: Generate high-quality content such as articles, blog posts, social media updates, and product descriptions at scale and speed.\n",
      "\t* Example: A company like HubSpot uses generative AI to create personalized content for its customers.\n",
      "2. **Product Recommendations**: Develop personalized product recommendations based on customer behavior, preferences, and purchase history.\n",
      "\t* Example: Netflix uses a combination of natural language processing (NLP) and collaborative filtering to generate movie recommendations.\n",
      "3. **Chatbots and Conversational Interfaces**: Build conversational interfaces that can understand and respond to user queries in a human-like manner.\n",
      "\t* Example: Many companies like Domino's Pizza, Whole Foods, and American Express use chatbots to provide customer support and order taking.\n",
      "4. **Data Visualization**: Generate interactive, dynamic data visualizations that help business users make better decisions.\n",
      "\t* Example: Tableau uses generative AI to create interactive dashboards for businesses.\n",
      "5. **Marketing Automation**: Automate marketing campaigns by generating targeted emails, ads, and social media posts based on customer behavior and preferences.\n",
      "\t* Example: Companies like Salesforce and Marketo use generative AI to automate marketing workflows.\n",
      "6. **Customer Service**: Develop chatbots that can handle routine customer inquiries, freeing up human agents to focus on more complex issues.\n",
      "\t* Example: IBM Watson Assistant is used by companies like American Express and AT&T to power their customer service platforms.\n",
      "7. **Predictive Maintenance**: Use generative AI to predict equipment failures and schedule maintenance tasks proactively.\n",
      "\t* Example: Companies like GE Digital use generative AI to predict equipment failures in industries like manufacturing and energy.\n",
      "8. **Supply Chain Optimization**: Optimize supply chain operations by predicting demand, identifying bottlenecks, and suggesting alternative routes.\n",
      "\t* Example: Companies like JDA Software and Manhattan Associates use generative AI to optimize supply chain operations.\n",
      "9. **Financial Modeling**: Generate financial models that can forecast revenue, expenses, and cash flow based on historical data and market trends.\n",
      "\t* Example: Companies like Fidelity Investments and Wells Fargo use generative AI to generate financial models for their customers.\n",
      "10. **Cybersecurity**: Use generative AI to detect and respond to cyber threats by analyzing network traffic, identifying anomalies, and generating incident response plans.\n",
      "\t* Example: Companies like Darktrace and Illumio use generative AI to detect and prevent cyber attacks.\n",
      "\n",
      "These are just a few examples of the many business applications of generative AI. As the technology continues to evolve, we can expect to see even more innovative uses across various industries.\n"
     ]
    }
   ],
   "source": [
    "response = requests.post(OLLAMA_API,json=payload,headers=HEADERS)\n",
    "print(response.json()['message']['content'])"
   ]
  },
  {
   "cell_type": "code",
   "execution_count": 15,
   "metadata": {},
   "outputs": [],
   "source": [
    "import ollama"
   ]
  },
  {
   "cell_type": "code",
   "execution_count": 17,
   "metadata": {},
   "outputs": [
    {
     "name": "stdout",
     "output_type": "stream",
     "text": [
      "Generative AI has numerous business applications across various industries, revolutionizing the way companies operate, innovate, and create value. Here are some examples:\n",
      "\n",
      "1. **Content Generation**: Companies can use generative AI to generate high-quality content, such as articles, blog posts, social media posts, and product descriptions. This helps reduce the time and effort required for content creation, allowing businesses to focus on other tasks.\n",
      "2. **Product Design and Development**: Generative AI can aid in designing new products by generating ideas, prototypes, and even entire product lines. This enables companies to accelerate their innovation pipeline and create more tailored products for customers.\n",
      "3. **Predictive Maintenance**: By analyzing sensor data from equipment and machinery, generative AI can predict when maintenance is required, reducing downtime and increasing overall efficiency.\n",
      "4. **Customer Service**: Chatbots powered by generative AI can provide personalized customer service, answering frequent questions and helping to resolve issues in a more efficient and effective manner.\n",
      "5. **Marketing and Advertising**: Generative AI can help create targeted marketing campaigns by generating unique ads for specific audiences, improving ad effectiveness and reducing waste.\n",
      "6. **Supply Chain Optimization**: By analyzing data from various sources, generative AI can optimize supply chain operations, predicting demand, identifying bottlenecks, and recommending improvements to reduce costs and increase efficiency.\n",
      "7. **Financial Forecasting**: Generative AI can analyze historical financial data and generate accurate predictions about future market trends, helping businesses make informed investment decisions.\n",
      "8. **Data Analysis and Visualization**: Generative AI can help analysts create interactive, visualizations of complex data sets, making it easier to identify patterns, trends, and correlations.\n",
      "9. **HR and Recruitment**: AI-powered recruitment tools can analyze job descriptions, generate job postings, and even assist in the interview process, helping companies find the best candidates faster.\n",
      "10. **Cybersecurity**: Generative AI can help detect and prevent cyber threats by analyzing behavior patterns and generating new threat models to anticipate potential attacks.\n",
      "11. **Healthcare**: AI-powered medical imaging tools can aid in diagnosing diseases, generating treatment plans, and even assisting surgeons during operations.\n",
      "12. **Sales and Pricing Strategies**: Generative AI can analyze market data and generate personalized sales pitches, pricing strategies, and product recommendations for customers.\n",
      "13. **Manufacturing and Production**: AI-powered manufacturing systems can optimize production processes, predict equipment failures, and generate maintenance schedules to minimize downtime.\n",
      "14. **Real Estate**: Generative AI can help real estate professionals analyze property data, generate marketing materials, and even assist in the homebuying process.\n",
      "15. **Academic Research**: AI-powered research tools can aid in literature reviews, data analysis, and hypothesis generation, helping scholars accelerate their research and publish more papers.\n",
      "\n",
      "These applications are just a few examples of how generative AI is transforming industries and creating new opportunities for businesses to innovate, optimize, and drive growth. As the technology continues to evolve, we can expect even more innovative use cases in various sectors.\n"
     ]
    }
   ],
   "source": [
    "response = ollama.chat(model=MODEL,messages=messages)\n",
    "print(response['message']['content'])"
   ]
  },
  {
   "cell_type": "code",
   "execution_count": 18,
   "metadata": {},
   "outputs": [],
   "source": [
    "def get_data(url):\n",
    "    response = requests.get(url)\n",
    "    soup = BeautifulSoup(response.text, 'html.parser')\n",
    "    title = soup.title.string if soup.title else \"No title found\"\n",
    "    for irrelevant in soup.body([\"script\",\"style\",\"img\",\"input\"]):\n",
    "        irrelevant.decompose()\n",
    "    text = soup.body.get_text(separator=\"\\n\",strip=True) \n",
    "    return title,text"
   ]
  },
  {
   "cell_type": "code",
   "execution_count": 19,
   "metadata": {},
   "outputs": [],
   "source": [
    "system_prompt = \"You are an assistant that analyzes the content of a website and provodes a short summary, ignoring the text that might be navigation related. Respond in Markdown\""
   ]
  },
  {
   "cell_type": "code",
   "execution_count": 21,
   "metadata": {},
   "outputs": [],
   "source": [
    "def get_message_for(website):\n",
    "    title,text = get_data(website)\n",
    "    user_prompt = f\"You are looking at a website titled {title}\"\n",
    "    user_prompt += \" The content of the website is a follows;\\\n",
    "    Please provide a short summary  of this website in markdown.\\\n",
    "    If it includes news for announcements, then summarize these too.\\n\\n\"\n",
    "    user_prompt += text\n",
    "\n",
    "    return[\n",
    "        {\"role\":\"system\",\"content\":system_prompt},\n",
    "        {\"role\":\"user\",\"content\":user_prompt}\n",
    "    ]"
   ]
  },
  {
   "cell_type": "code",
   "execution_count": 29,
   "metadata": {},
   "outputs": [],
   "source": [
    "def summarize(url):\n",
    "    response = ollama.chat(\n",
    "        model= MODEL,\n",
    "        messages= get_message_for(url)\n",
    "    )\n",
    "    return response['message']['content']"
   ]
  },
  {
   "cell_type": "code",
   "execution_count": 31,
   "metadata": {},
   "outputs": [
    {
     "data": {
      "text/markdown": [
       "Here is a summary of the website in markdown:\n",
       "\n",
       "**What We Do**\n",
       "Cognine offers AI-powered solutions across various industries including Logistics, Healthcare, Financial Services, and Manufacturing.\n",
       "\n",
       "**Services**\n",
       "The company provides services such as:\n",
       "* AI Development\n",
       "* ML & Deep Learning\n",
       "* Gen AI\n",
       "* Automation\n",
       "* Data & Analytics\n",
       "* Digital Engineering\n",
       "* Cloud Development\n",
       "\n",
       "**Insights**\n",
       "Cognine publishes thought leadership pieces on topics like AI in business, predictive analytics, and the future of enterprise technology.\n",
       "\n",
       "**About Us**\n",
       "The company values excellence, innovation, and commitment. It has a flexible delivery model, emphasizes engineering excellence, and fosters a great workplace environment.\n",
       "\n",
       "**News & Announcements**\n",
       "Recent press releases include:\n",
       "* \"LLM as Strategic Assets: A Road Map for Organizational Leaders...\"\n",
       "* \"Ready for Smarter Automation?\"\n",
       "* And more...\n",
       "\n",
       "**Contact Us**\n",
       "Get in touch with Cognine to explore how AI can drive your business forward. The company has offices in the United States and India."
      ],
      "text/plain": [
       "<IPython.core.display.Markdown object>"
      ]
     },
     "metadata": {},
     "output_type": "display_data"
    }
   ],
   "source": [
    "display(Markdown(summarize(\"https://cognine.com\")))"
   ]
  },
  {
   "cell_type": "code",
   "execution_count": null,
   "metadata": {},
   "outputs": [],
   "source": []
  }
 ],
 "metadata": {
  "kernelspec": {
   "display_name": "Python 3",
   "language": "python",
   "name": "python3"
  },
  "language_info": {
   "codemirror_mode": {
    "name": "ipython",
    "version": 3
   },
   "file_extension": ".py",
   "mimetype": "text/x-python",
   "name": "python",
   "nbconvert_exporter": "python",
   "pygments_lexer": "ipython3",
   "version": "3.13.0"
  }
 },
 "nbformat": 4,
 "nbformat_minor": 2
}
