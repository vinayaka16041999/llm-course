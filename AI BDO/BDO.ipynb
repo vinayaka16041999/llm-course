{
 "cells": [
  {
   "cell_type": "code",
   "execution_count": 261,
   "metadata": {},
   "outputs": [],
   "source": [
    "import os\n",
    "import requests\n",
    "from groq import Groq\n",
    "import json\n",
    "from dotenv import load_dotenv\n",
    "from typing import List\n",
    "from IPython.display import Markdown, display, update_display\n",
    "from bs4 import BeautifulSoup"
   ]
  },
  {
   "cell_type": "code",
   "execution_count": 262,
   "metadata": {},
   "outputs": [
    {
     "name": "stdout",
     "output_type": "stream",
     "text": [
      "API Key found and looks good\n"
     ]
    }
   ],
   "source": [
    "load_dotenv()\n",
    "api_key = os.getenv(\"GROQ_API_KEY\")\n",
    "if not api_key:\n",
    "    print(\"No API Keys found\")\n",
    "elif api_key.strip() !=api_key:\n",
    "    print(\"API Key might have tabs or spaces in it\")\n",
    "else:\n",
    "    print(\"API Key found and looks good\")"
   ]
  },
  {
   "cell_type": "code",
   "execution_count": 353,
   "metadata": {},
   "outputs": [],
   "source": [
    "debug = False\n",
    "MAX_RETRIES = 3"
   ]
  },
  {
   "cell_type": "code",
   "execution_count": 263,
   "metadata": {},
   "outputs": [],
   "source": [
    "MODEL = \"llama3-8b-8192\"\n",
    "groq = Groq()"
   ]
  },
  {
   "cell_type": "markdown",
   "metadata": {},
   "source": [
    "### Website object to parse client's website"
   ]
  },
  {
   "cell_type": "code",
   "execution_count": 264,
   "metadata": {},
   "outputs": [],
   "source": [
    "class Website:\n",
    "\n",
    "    url:str\n",
    "    body:str\n",
    "    title:str\n",
    "    links:str\n",
    "    text:str\n",
    "\n",
    "    def __init__(self,url):\n",
    "        self.url = url\n",
    "        response = requests.get(url)\n",
    "        self.body = response.content\n",
    "        soup = BeautifulSoup(self.body, 'html.parser')\n",
    "        self.title = soup.title.string if soup.title else \"No title found\"\n",
    "        if soup.body:\n",
    "            for irrelevant in soup.body([\"script\",\"style\",\"img\",\"input\"]):\n",
    "                irrelevant.decompose()\n",
    "            self.text = soup.body.get_text(separator=\"\\n\",strip=True)\n",
    "        else:\n",
    "            self.text = \"\"\n",
    "        links = [link.get('href') for link in soup.find_all('a')]\n",
    "        self.links = [link for link in links if link]\n",
    "\n",
    "    def get_contents(self):\n",
    "        return f\"Webpage Title:{self.title}\\nWebpage Contents:\\n{self.text}\\n\\n\""
   ]
  },
  {
   "cell_type": "code",
   "execution_count": 342,
   "metadata": {},
   "outputs": [],
   "source": [
    "if debug:\n",
    "    temp = Website(\"https://www.anthropic.com\")\n",
    "    print(temp.get_contents(), temp.links)"
   ]
  },
  {
   "cell_type": "markdown",
   "metadata": {},
   "source": [
    "## L1 Prompt\n",
    "### Get the list of links from the client's website and select the useful ones along while noting down improvements for whatever's found in the website"
   ]
  },
  {
   "cell_type": "code",
   "execution_count": 266,
   "metadata": {},
   "outputs": [],
   "source": [
    "link_system_prompt = \"\"\"\n",
    "You are provided with a list of links found on a company's website. Your task is to identify the 5 most relevant links for determining potential problems or areas for improvement that the company might need help with from a service-based IT firm. Base your selection on the business focus or product offerings of the company. Refer to the guidelines and examples below to make your decisions.\n",
    "\n",
    "**Guidelines for Analyzing Links:**  \n",
    "When analyzing a company's website, prioritize links that provide insights into possible challenges or improvements in areas where IT services can add value. Focus on these types of links or sections:\n",
    "\n",
    "1. **Products/Services**\n",
    "   - **Why Useful**: These pages detail what the company offers to customers. Evaluate whether their offerings are user-friendly, scalable, and aligned with current trends.\n",
    "   - **Potential Indicators**:\n",
    "     - Missing features that competitors provide.\n",
    "     - Outdated product interfaces or designs.\n",
    "     - No clear differentiation in the market.\n",
    "\n",
    "2. **Careers**\n",
    "   - **Why Useful**: These pages reveal the company's hiring trends and skillset needs. They can highlight gaps in expertise or technological capabilities.\n",
    "   - **Potential Indicators**:\n",
    "     - Active hiring for IT roles, indicating unmet technical needs.\n",
    "     - Lack of roles focused on modern technologies (e.g., AI, cloud computing).\n",
    "\n",
    "3. **Contact**\n",
    "   - **Why Useful**: These pages often reveal how the company handles customer interactions and inquiries.\n",
    "   - **Potential Indicators**:\n",
    "     - Lack of automation (e.g., no chatbots, basic forms).\n",
    "     - Inefficient customer support systems.\n",
    "\n",
    "4. **About/Company Info**\n",
    "   - **Why Useful**: Offers insights into the company's goals, culture, and long-term strategies.\n",
    "   - **Potential Indicators**:\n",
    "     - Lack of emphasis on digital transformation or outdated mission statements.\n",
    "     - Areas where improved tech integration could support their goals.\n",
    "\n",
    "5. **Case Studies/Blog/Portfolio**\n",
    "   - **Why Useful**: These pages show the company's achievements and projects.\n",
    "   - **Potential Indicators**:\n",
    "     - Few recent updates, suggesting stagnation.\n",
    "     - Lack of modern technology use in past projects.\n",
    "\n",
    "**Response Format:**  \n",
    "Your response must be in JSON format, as shown in the examples below:\n",
    "**Examples:**\n",
    "\\n\n",
    "\"\"\"\n",
    "link_system_prompt+= \"\"\"\n",
    "{\n",
    "    \"links\":[\n",
    "        {\n",
    "            \"type\":\"about page\",\n",
    "            \"url\":\"https://full.url/goes/here/about/\",\n",
    "            \"area_of_improvement\":\"Data Services\",\n",
    "            \"detail\":\"Data Services can be used here to do this and that\"\n",
    "        },\n",
    "        {\n",
    "            \"type\":\"careers page\",\n",
    "            \"url\":\"https://another.full.url/careers/\",\n",
    "            \"area_of_improvement\":\"AI Services\",\n",
    "            \"detail\":\"AI Services can be used here to build AI agents and yada yada\"\n",
    "        }\n",
    "    ]\n",
    "}\n",
    "\\n\n",
    "\"\"\"\n",
    "link_system_prompt += \"\"\"\n",
    "{\n",
    "    \"links\":[\n",
    "        {\n",
    "            \"type\":\"contact\",\n",
    "            \"url\":\"https://url.com/yadayada/contact\",\n",
    "            \"area_of_improvement\":\"Analytics Services\",\n",
    "            \"detail\":\"Analytics Services can be used here for data analytics and BI etc.\"\n",
    "        },\n",
    "        {\n",
    "            \"type\":\"customers\",\n",
    "            \"url\":\"https://website.net/us/customers\",\n",
    "            \"area_of_improvement\":\"Cloud Development Services\",\n",
    "            \"detail\":\"Cloud Development Services can be used here to migrate the data to the cloud and so on.\"\n",
    "        }\n",
    "    ]\n",
    "}\n",
    "\"\"\""
   ]
  },
  {
   "cell_type": "code",
   "execution_count": 343,
   "metadata": {},
   "outputs": [],
   "source": [
    "if debug:\n",
    "    print(link_system_prompt)"
   ]
  },
  {
   "cell_type": "code",
   "execution_count": 268,
   "metadata": {},
   "outputs": [],
   "source": [
    "def get_links_user_prompt(website):\n",
    "    user_prompt = f\"Here is the list of links on the website of {website.url}  -  \"\n",
    "    user_prompt += \"Please provide the links that are relevant in determining which areas of the company/product that might be facing issues or the areas which could use upgrade from current technology. Respond with the full HTTPS URL :\"\n",
    "    user_prompt += \"Do not include Terms of Service, Privacy, Email links.\\n\"\n",
    "    user_prompt += \"Links (some might be relative links):\\n\"\n",
    "    user_prompt += \"\\n\".join(website.links)\n",
    "    return user_prompt"
   ]
  },
  {
   "cell_type": "code",
   "execution_count": 344,
   "metadata": {},
   "outputs": [],
   "source": [
    "if debug:\n",
    "    print(get_links_user_prompt(temp))"
   ]
  },
  {
   "cell_type": "markdown",
   "metadata": {},
   "source": [
    "#### Use AI to determine which links are useful along with some possible usec ases for the client for upgrading the existing system"
   ]
  },
  {
   "cell_type": "code",
   "execution_count": 270,
   "metadata": {},
   "outputs": [],
   "source": [
    "def get_links(url):\n",
    "    website = Website(url)\n",
    "    completion = groq.chat.completions.create(\n",
    "        model = MODEL,\n",
    "        messages = [\n",
    "            {\"role\":\"system\",\"content\":link_system_prompt},\n",
    "            {\"role\":\"user\",\"content\":get_links_user_prompt(website)}\n",
    "        ],\n",
    "        response_format = {\"type\":\"json_object\"}\n",
    "    )\n",
    "    result = completion.choices[0].message.content\n",
    "    return json.loads(result)"
   ]
  },
  {
   "cell_type": "code",
   "execution_count": 346,
   "metadata": {},
   "outputs": [],
   "source": [
    "if debug:\n",
    "    get_links(\"https://www.anthropic.com\")"
   ]
  },
  {
   "cell_type": "code",
   "execution_count": 272,
   "metadata": {},
   "outputs": [],
   "source": [
    "def get_all_details(url):\n",
    "    result = \"Landing page:\\n\"\n",
    "    result += Website(url).get_contents()\n",
    "    links = get_links(url)\n",
    "    #print(\"Found Links!\",links)\n",
    "    for link in links[\"links\"]:\n",
    "        result += f\"\\n\\n{link['type']}\\n\"\n",
    "        result += f\"\"\"\\n\\n{link['area_of_improvement']}:\\n{link['detail']}\\n\"\"\"\n",
    "        result += Website(link[\"url\"]).get_contents()\n",
    "    return result"
   ]
  },
  {
   "cell_type": "code",
   "execution_count": 345,
   "metadata": {},
   "outputs": [],
   "source": [
    "if debug:\n",
    "    print(get_all_details(\"https://cognine.com\"))"
   ]
  },
  {
   "cell_type": "markdown",
   "metadata": {},
   "source": [
    "## L2 Prompt\n",
    "### Based on the generated output from previous layer, generate proposals for the improvements"
   ]
  },
  {
   "cell_type": "code",
   "execution_count": 275,
   "metadata": {},
   "outputs": [],
   "source": [
    "shortlisting_system_prompt = \"\"\" \n",
    "You are provided with the full content of 5 selected pages from a client's website. Your task is to analyze the content and generate a JSON response with 5 problem/upgrade proposals that can be recommended to the client. Each proposal must include:\n",
    "\n",
    "Proposal Details: A concise explanation of what your service-based IT firm can provide to address the issue or implement the improvement based on the findings from the content of their website.\n",
    "Use the content from each page to derive meaningful, actionable proposals. Ensure the proposals are client-focused and clearly communicate the value of the suggested upgrades or services and show how the upgrade will improve it compared to their existing systems.\n",
    "\n",
    "Do not mention their website or that they lack anything. Only use the words in imaginary tense like it might face this and that issue. It might be upgraded into this or that etc.\n",
    "\n",
    "Example Response Format:\n",
    "The output JSON should in a similar structure:\n",
    "{\n",
    "  \"proposals\": [\n",
    "    {\n",
    "      \"proposal area\": \"data engineering\",\n",
    "      \"proposal details\": \"We use our data engineering services to acheive this and that etc.\"\n",
    "    },\n",
    "    {\n",
    "      \"proposal area\": \"AI engineering\",\n",
    "      \"proposal details\": \"We can develop an AI application to do yada yada that will help with abc\"\n",
    "    }\n",
    "  ]\n",
    "}\n",
    "\"\"\""
   ]
  },
  {
   "cell_type": "code",
   "execution_count": 276,
   "metadata": {},
   "outputs": [],
   "source": [
    "def get_shortlist_user_prompt(company_name,url):\n",
    "    user_prompt = f\"You are looking at a company called {company_name}\\n\"\n",
    "    user_prompt += f\"Here are the contents of relevant pages of this company;Use this to provide usecases for potential upgrades to their system\\n\\n\"\n",
    "    user_prompt += get_all_details(url)\n",
    "    return user_prompt"
   ]
  },
  {
   "cell_type": "code",
   "execution_count": 277,
   "metadata": {},
   "outputs": [],
   "source": [
    "def create_proposals(company_name,url):\n",
    "    response = groq.chat.completions.create(\n",
    "        model = MODEL,\n",
    "        messages = [\n",
    "            {\"role\":\"system\",\"content\":shortlisting_system_prompt},\n",
    "            {\"role\":\"user\",\"content\":get_shortlist_user_prompt(company_name,url)},\n",
    "        ],\n",
    "        response_format = {\"type\":\"json_object\"}\n",
    "    )\n",
    "    result = response.choices[0].message.content\n",
    "    return json.loads(result)"
   ]
  },
  {
   "cell_type": "code",
   "execution_count": 347,
   "metadata": {},
   "outputs": [],
   "source": [
    "if debug:\n",
    "    create_proposals(\"Anthropic\",\"https://anthropic.com\")"
   ]
  },
  {
   "cell_type": "markdown",
   "metadata": {},
   "source": [
    "## L3 Prompt\n",
    "### Based on the generated proposals in previous layer, generate an email addressing the client suggesting them with possible improvements to their current systems"
   ]
  },
  {
   "cell_type": "code",
   "execution_count": 349,
   "metadata": {},
   "outputs": [],
   "source": [
    "system_prompt = f\"\"\"\n",
    "You are an email writer for a service-based IT firm. Your task is to craft professional and engaging emails based on provided proposals gathered by your company by data mining the client's website that highlight the areas of improvement for a potential client. The email should showcase how your firm can address the identified problems or implement the suggested upgrades. Use the following structure and tone guidelines:\n",
    "\n",
    "Subject Line: Craft a very detailed, attention-grabbing subject line reflecting the value your firm offers.\n",
    "\n",
    "Body: Should use markdown and well formatted. Use bulletpoints wherever necessary.\n",
    "\n",
    "Introduction: Acknowledge the client's business and mission while indicating that your firm has analyzed their needs.\n",
    "\n",
    "Proposals: Paragraph of details showing key areas of improvement and how your firm can address them and improve them with atlease 5 sentences for each proposal.\n",
    "\n",
    "History: Give a detailed summary of last 2 projects that your company worked on for another client with technologies used, the impact it made to the client and so on.These projects should be different paragraphs. If the data dosent exist fabric a project tailored to the need. The project names should be code words so as not to divulge confidential info.\n",
    "\n",
    "Firm's Expertise: Demonstrate your firm's expertise with relevant achievements or case studies. If no data exists then fabric a case study to tailor the client's requirement or for the proposal. \n",
    "\n",
    "The team: Along with that highlight all the technologies that your company's engineers are expertised in. This should be in-line with the client's requirement and mention the tech stack.\n",
    "\n",
    "Call to Action: End with an invitation to discuss further, such as scheduling a call or meeting.\n",
    "Ensure the email is concise, client-focused, and tailored to the proposal areas and details provided.\n",
    "\n",
    "### Sender Details:\n",
    "Ensure the email concludes with your company details formatted using `<br/>` tags for proper line breaks.\n",
    "\n",
    "#### **Example Sender Details**:\n",
    "```html\n",
    "Name: Vinayaka Shastri<br>\n",
    "Designation: AI Engineer<br>\n",
    "Company Name: Cognine<br>\n",
    "Website: www.cognine.com<br>\n",
    "\n",
    "\"\"\""
   ]
  },
  {
   "cell_type": "code",
   "execution_count": 328,
   "metadata": {},
   "outputs": [],
   "source": [
    "def get_email_user_prompt(company_name,url):\n",
    "    user_prompt = f\"You are looking at a company called {company_name}\\n\"\n",
    "    user_prompt += f\"Write an email to the client company based on the below proposals using markdown.\\n\"\n",
    "    user_prompt += str(create_proposals(company_name,url))\n",
    "    #user_prompt = user_prompt[:20_000]\n",
    "    return user_prompt"
   ]
  },
  {
   "cell_type": "code",
   "execution_count": 329,
   "metadata": {},
   "outputs": [],
   "source": [
    "if debug:\n",
    "    print(get_email_user_prompt(\"Anthropic\",\"https://anthropic.com\"))"
   ]
  },
  {
   "cell_type": "code",
   "execution_count": 350,
   "metadata": {},
   "outputs": [],
   "source": [
    "def create_email(company_name,url):\n",
    "    response = groq.chat.completions.create(\n",
    "        model = MODEL,\n",
    "        messages = [\n",
    "            {\"role\":\"system\",\"content\":system_prompt},\n",
    "            {\"role\":\"user\",\"content\":get_email_user_prompt(company_name,url)},\n",
    "        ],\n",
    "    )\n",
    "    result = response.choices[0].message.content\n",
    "    display(Markdown(result))"
   ]
  },
  {
   "cell_type": "code",
   "execution_count": 355,
   "metadata": {},
   "outputs": [
    {
     "data": {
      "text/markdown": [
       "Subject: Enhance Your Operations with Our Expert Solutions for Anthropic\n",
       "\n",
       "Dear Anthropic Team,\n",
       "\n",
       "We're thrilled to have analyzed your organization's website and identified key areas where our IT firm can offer tailored solutions to improve your operations. With our expertise in Data Engineering, Artificial Intelligence, Research and Development, Security and Compliance, and Customer Support, we're confident that we can help you overcome the challenges you're facing and achieve your goals.\n",
       "\n",
       "**Data Engineering**\n",
       "To migrate your existing data and systems to the cloud, we recommend leveraging our Cloud Development Services. This will enable scalable and secure data storage, processing, and analytics, while also reducing operational costs and improving collaboration and innovation within your organization.\n",
       "\n",
       "**Artificial Intelligence**\n",
       "Anthropic's AI services can be integrated into your existing systems and workflows to automate tasks, improve decision-making, and enhance productivity across various business functions. We can develop a custom solution that leverages Claude's capabilities to drive business value and stay ahead of the competition.\n",
       "\n",
       "**Research and Development**\n",
       "We can utilize Anthropic's Research and Development services to identify opportunities for innovation and improvement in various areas of your organization. Our experts will analyze existing processes, identify gaps and inefficiencies, and develop prototypes and pilot projects to test new solutions. This will enable you to stay ahead of the curve and achieve your mission.\n",
       "\n",
       "**Security and Compliance**\n",
       "To ensure the security and compliance of sensitive data and systems, we recommend implementing Anthropic's security features, such as single sign-on (SSO), domain capture, audit logs, SCIM, and role-based permissioning. This will provide a robust security framework and ensure compliance with relevant regulations and standards.\n",
       "\n",
       "**Customer Support**\n",
       "We can utilize Anthropic's Automated Incident Response service to improve and automate your service status page, providing real-time updates and notifications to customers and stakeholders. This will enhance transparency, reliability, and responsiveness to incidents and maintenance, and improve overall customer satisfaction.\n",
       "\n",
       "As a testament to our expertise, here are two recent projects we've worked on:\n",
       "\n",
       "**Project Aurora**\n",
       "We helped a leading fintech company in the US migrate their critical data to the cloud, resulting in a 30% reduction in operational costs and a 25% increase in data processing speed. Our solution integrated AWS services with custom-built data pipelines and ensured seamless data migration.\n",
       "\n",
       "**Project Nexus**\n",
       "For a global e-commerce company, we developed a custom AI-powered chatbot to improve customer support. Our solution enabled the company to reduce response times by 40% and increase customer satisfaction by 25%. We used natural language processing (NLP) and machine learning (ML) to analyze customer queries and provide personalized responses.\n",
       "\n",
       "Our team consists of experts in the following technologies:\n",
       "\n",
       "* Cloud technologies: AWS, Azure, Google Cloud\n",
       "* Artificial Intelligence and Machine Learning: TensorFlow, PyTorch, Scikit-learn\n",
       "* Data Engineering: Apache Spark, Hadoop, DataFlow\n",
       "* Security and Compliance: ISO 27001, SOC 2, HIPAA/HITECH\n",
       "* Customer Support: ServiceNow, Zendesk, JIRA\n",
       "\n",
       "We would be delighted to discuss how our solutions can address your specific needs and improve your operations. Please let us know if you're interested in scheduling a call or meeting to explore further.\n",
       "\n",
       "Thank you for considering our proposals. We look forward to the opportunity to work with you.\n",
       "\n",
       "Best regards,\n",
       "\n",
       "Vinayaka Shastri\n",
       "AI Engineer\n",
       "Cognine\n",
       "www.cognine.com\n",
       "<br/>\n",
       "Designation: AI Engineer\n",
       "<br/>\n",
       "Company Name: Cognine\n",
       "<br/>"
      ],
      "text/plain": [
       "<IPython.core.display.Markdown object>"
      ]
     },
     "metadata": {},
     "output_type": "display_data"
    }
   ],
   "source": [
    "for _ in range(MAX_RETRIES):\n",
    "    try:\n",
    "        create_email(\"Anthropic\",\"https://www.anthropic.com\")\n",
    "        break\n",
    "    except Exception as e:\n",
    "        print(\"Regenerating...\")\n",
    "        continue\n",
    "else:\n",
    "    print(\"Max tries exceeded!!!\")"
   ]
  },
  {
   "cell_type": "code",
   "execution_count": null,
   "metadata": {},
   "outputs": [],
   "source": []
  }
 ],
 "metadata": {
  "kernelspec": {
   "display_name": "Python 3",
   "language": "python",
   "name": "python3"
  },
  "language_info": {
   "codemirror_mode": {
    "name": "ipython",
    "version": 3
   },
   "file_extension": ".py",
   "mimetype": "text/x-python",
   "name": "python",
   "nbconvert_exporter": "python",
   "pygments_lexer": "ipython3",
   "version": "3.13.0"
  }
 },
 "nbformat": 4,
 "nbformat_minor": 2
}
